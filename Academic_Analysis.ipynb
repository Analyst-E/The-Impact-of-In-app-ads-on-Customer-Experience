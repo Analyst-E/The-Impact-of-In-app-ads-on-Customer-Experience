{
  "nbformat": 4,
  "nbformat_minor": 0,
  "metadata": {
    "colab": {
      "provenance": [],
      "authorship_tag": "ABX9TyNPTOXOI1kE0/DqNgBsfKcK",
      "include_colab_link": true
    },
    "kernelspec": {
      "name": "python3",
      "display_name": "Python 3"
    },
    "language_info": {
      "name": "python"
    }
  },
  "cells": [
    {
      "cell_type": "markdown",
      "metadata": {
        "id": "view-in-github",
        "colab_type": "text"
      },
      "source": [
        "<a href=\"https://colab.research.google.com/github/Analyst-E/The-Impact-of-In-app-ads-on-Customer-Experience/blob/main/Academic_Analysis.ipynb\" target=\"_parent\"><img src=\"https://colab.research.google.com/assets/colab-badge.svg\" alt=\"Open In Colab\"/></a>"
      ]
    },
    {
      "cell_type": "markdown",
      "source": [
        "# **1. IMPORT THE NECESSARY LIBRARIES**"
      ],
      "metadata": {
        "id": "Kn3t7Azlz0JZ"
      }
    },
    {
      "cell_type": "code",
      "execution_count": 1,
      "metadata": {
        "id": "UwSOXj_lzBgv"
      },
      "outputs": [],
      "source": [
        "# Import Libraries\n",
        "import pandas as pd             # Data manipulation (Core)\n",
        "import numpy as np              # Numerical operations (Core)\n",
        "import matplotlib.pyplot as plt # Basic plotting\n",
        "import seaborn as sns           # Advanced statistical visualization\n",
        "import scipy.stats as stats     # Statistical tests\n",
        "import statsmodels.api as sm    # General statistical models (e.g., OLS)\n",
        "from statsmodels.formula.api import ols  # Regression/ANOVA with formula syntax\n",
        "from sklearn.preprocessing import StandardScaler # Data scaling\n",
        "from sklearn.cluster import KMeans               # Clustering (Exploratory)"
      ]
    },
    {
      "cell_type": "code",
      "source": [
        "# install the library necessary for cronbach alpha calculation\n",
        "!pip install pingouin"
      ],
      "metadata": {
        "colab": {
          "base_uri": "https://localhost:8080/"
        },
        "id": "M0TAHSb90hDP",
        "outputId": "b49545a6-3778-40d2-bd70-7de9b3aa17ed"
      },
      "execution_count": 2,
      "outputs": [
        {
          "output_type": "stream",
          "name": "stdout",
          "text": [
            "Collecting pingouin\n",
            "  Downloading pingouin-0.5.5-py3-none-any.whl.metadata (19 kB)\n",
            "Requirement already satisfied: matplotlib in /usr/local/lib/python3.12/dist-packages (from pingouin) (3.10.0)\n",
            "Requirement already satisfied: numpy in /usr/local/lib/python3.12/dist-packages (from pingouin) (2.0.2)\n",
            "Requirement already satisfied: pandas>=1.5 in /usr/local/lib/python3.12/dist-packages (from pingouin) (2.2.2)\n",
            "Collecting pandas-flavor (from pingouin)\n",
            "  Downloading pandas_flavor-0.7.0-py3-none-any.whl.metadata (6.7 kB)\n",
            "Requirement already satisfied: scikit-learn>=1.2 in /usr/local/lib/python3.12/dist-packages (from pingouin) (1.6.1)\n",
            "Requirement already satisfied: scipy in /usr/local/lib/python3.12/dist-packages (from pingouin) (1.16.2)\n",
            "Requirement already satisfied: seaborn in /usr/local/lib/python3.12/dist-packages (from pingouin) (0.13.2)\n",
            "Requirement already satisfied: statsmodels in /usr/local/lib/python3.12/dist-packages (from pingouin) (0.14.5)\n",
            "Requirement already satisfied: tabulate in /usr/local/lib/python3.12/dist-packages (from pingouin) (0.9.0)\n",
            "Requirement already satisfied: python-dateutil>=2.8.2 in /usr/local/lib/python3.12/dist-packages (from pandas>=1.5->pingouin) (2.9.0.post0)\n",
            "Requirement already satisfied: pytz>=2020.1 in /usr/local/lib/python3.12/dist-packages (from pandas>=1.5->pingouin) (2025.2)\n",
            "Requirement already satisfied: tzdata>=2022.7 in /usr/local/lib/python3.12/dist-packages (from pandas>=1.5->pingouin) (2025.2)\n",
            "Requirement already satisfied: joblib>=1.2.0 in /usr/local/lib/python3.12/dist-packages (from scikit-learn>=1.2->pingouin) (1.5.2)\n",
            "Requirement already satisfied: threadpoolctl>=3.1.0 in /usr/local/lib/python3.12/dist-packages (from scikit-learn>=1.2->pingouin) (3.6.0)\n",
            "Requirement already satisfied: contourpy>=1.0.1 in /usr/local/lib/python3.12/dist-packages (from matplotlib->pingouin) (1.3.3)\n",
            "Requirement already satisfied: cycler>=0.10 in /usr/local/lib/python3.12/dist-packages (from matplotlib->pingouin) (0.12.1)\n",
            "Requirement already satisfied: fonttools>=4.22.0 in /usr/local/lib/python3.12/dist-packages (from matplotlib->pingouin) (4.60.0)\n",
            "Requirement already satisfied: kiwisolver>=1.3.1 in /usr/local/lib/python3.12/dist-packages (from matplotlib->pingouin) (1.4.9)\n",
            "Requirement already satisfied: packaging>=20.0 in /usr/local/lib/python3.12/dist-packages (from matplotlib->pingouin) (25.0)\n",
            "Requirement already satisfied: pillow>=8 in /usr/local/lib/python3.12/dist-packages (from matplotlib->pingouin) (11.3.0)\n",
            "Requirement already satisfied: pyparsing>=2.3.1 in /usr/local/lib/python3.12/dist-packages (from matplotlib->pingouin) (3.2.4)\n",
            "Requirement already satisfied: xarray in /usr/local/lib/python3.12/dist-packages (from pandas-flavor->pingouin) (2025.9.0)\n",
            "Requirement already satisfied: patsy>=0.5.6 in /usr/local/lib/python3.12/dist-packages (from statsmodels->pingouin) (1.0.1)\n",
            "Requirement already satisfied: six>=1.5 in /usr/local/lib/python3.12/dist-packages (from python-dateutil>=2.8.2->pandas>=1.5->pingouin) (1.17.0)\n",
            "Downloading pingouin-0.5.5-py3-none-any.whl (204 kB)\n",
            "\u001b[2K   \u001b[90m━━━━━━━━━━━━━━━━━━━━━━━━━━━━━━━━━━━━━━━━\u001b[0m \u001b[32m204.4/204.4 kB\u001b[0m \u001b[31m7.1 MB/s\u001b[0m eta \u001b[36m0:00:00\u001b[0m\n",
            "\u001b[?25hDownloading pandas_flavor-0.7.0-py3-none-any.whl (8.4 kB)\n",
            "Installing collected packages: pandas-flavor, pingouin\n",
            "Successfully installed pandas-flavor-0.7.0 pingouin-0.5.5\n"
          ]
        }
      ]
    },
    {
      "cell_type": "code",
      "source": [
        "import pingouin as pg;\n",
        "\n",
        "# Load the dataset\n",
        "df = pd.read_csv('In_App_Ads_Survey.csv')"
      ],
      "metadata": {
        "id": "UuuK3d4H1D3E"
      },
      "execution_count": 4,
      "outputs": []
    },
    {
      "cell_type": "code",
      "source": [
        "# Basic exploration\n",
        "print(\"\\nColumn information:\")\n",
        "print(df.info())"
      ],
      "metadata": {
        "colab": {
          "base_uri": "https://localhost:8080/"
        },
        "id": "HbODHQIC266Y",
        "outputId": "1dd762ea-a8de-4da0-d27c-3d0abd4782dd"
      },
      "execution_count": 5,
      "outputs": [
        {
          "output_type": "stream",
          "name": "stdout",
          "text": [
            "\n",
            "Column information:\n",
            "<class 'pandas.core.frame.DataFrame'>\n",
            "RangeIndex: 168 entries, 0 to 167\n",
            "Data columns (total 20 columns):\n",
            " #   Column                 Non-Null Count  Dtype  \n",
            "---  ------                 --------------  -----  \n",
            " 0   Age_Code               168 non-null    int64  \n",
            " 1   is_gamer               168 non-null    int64  \n",
            " 2   is_social_media_user   168 non-null    int64  \n",
            " 3   is_shopper             168 non-null    int64  \n",
            " 4   is_news                168 non-null    int64  \n",
            " 5   is_utility             168 non-null    int64  \n",
            " 6   is_streamer            168 non-null    int64  \n",
            " 7   is_productivity        168 non-null    int64  \n",
            " 8   Banner_Ads             168 non-null    int64  \n",
            " 9   Pop_up_Ads             168 non-null    int64  \n",
            " 10  Rewarded_Ads           168 non-null    int64  \n",
            " 11  Satisfaction_Pop_up    168 non-null    int64  \n",
            " 12  Satisfaction_Banner    168 non-null    int64  \n",
            " 13  Satisfaction_Rewarded  168 non-null    int64  \n",
            " 14  Engagement_Pop_up      168 non-null    int64  \n",
            " 15  Engagement_Rewarded    168 non-null    int64  \n",
            " 16  Engagement_Relevant    168 non-null    int64  \n",
            " 17  Ads_Mean               168 non-null    float64\n",
            " 18  Satisfaction_Mean      168 non-null    float64\n",
            " 19  Engagement_Mean        168 non-null    float64\n",
            "dtypes: float64(3), int64(17)\n",
            "memory usage: 26.4 KB\n",
            "None\n"
          ]
        }
      ]
    },
    {
      "cell_type": "markdown",
      "source": [
        "# **2. RELIABILITY TESTS**"
      ],
      "metadata": {
        "id": "mWysjcQs4Pfw"
      }
    },
    {
      "cell_type": "code",
      "source": [
        "# --- Reliability Check ---\n",
        "\n",
        "# 1. Satisfaction Scale Reliability (Q12, Q13, Q14)\n",
        "satisfaction_cols = ['Satisfaction_Pop_up', 'Satisfaction_Banner', 'Satisfaction_Rewarded']\n",
        "alpha_satisfaction = pg.cronbach_alpha(data=df[satisfaction_cols])\n",
        "\n",
        "# 2. Engagement Scale Reliability (Q15, Q16, Q17)\n",
        "engagement_cols = ['Engagement_Pop_up', 'Engagement_Rewarded', 'Engagement_Relevant']\n",
        "alpha_engagement = pg.cronbach_alpha(data=df[engagement_cols])\n",
        "\n",
        "print(\"--- Cronbach's Alpha Results ---\")\n",
        "print(f\"User Satisfaction Scale Alpha: {alpha_satisfaction[0]:.3f}\")\n",
        "print(f\"App Engagement Scale Alpha: {alpha_engagement[0]:.3f}\")\n",
        "\n",
        "# Interpretation: A value >= 0.70 is typically required for good reliability."
      ],
      "metadata": {
        "colab": {
          "base_uri": "https://localhost:8080/"
        },
        "id": "Oxl9M8vu4ULp",
        "outputId": "59fbf424-3c18-4b00-e157-36bb8baf7519"
      },
      "execution_count": 8,
      "outputs": [
        {
          "output_type": "stream",
          "name": "stdout",
          "text": [
            "--- Cronbach's Alpha Results ---\n",
            "User Satisfaction Scale Alpha: 0.693\n",
            "App Engagement Scale Alpha: 0.444\n"
          ]
        }
      ]
    },
    {
      "cell_type": "markdown",
      "source": [
        "**Locating Problematic items**"
      ],
      "metadata": {
        "id": "6h9yP2hFUBWI"
      }
    },
    {
      "cell_type": "code",
      "source": [
        "# 1. Define the item columns for each scale\n",
        "satisfaction_cols = ['Satisfaction_Pop_up', 'Satisfaction_Banner', 'Satisfaction_Rewarded']\n",
        "engagement_cols = ['Engagement_Pop_up', 'Engagement_Rewarded', 'Engagement_Relevant']\n",
        "\n",
        "# 2. Check Reliability for the User Satisfaction Scale\n",
        "print(\"--- User Satisfaction Scale Reliability ---\")\n",
        "satisfaction_alpha, satisfaction_items = pg.cronbach_alpha(data=df[satisfaction_cols], items=True)\n",
        "print(f\"Overall Cronbach's Alpha: {satisfaction_alpha:.3f}\")\n",
        "print(\"\\nAlpha if Item Deleted (Satisfaction):\")\n",
        "print(satisfaction_items.round(3))\n",
        "\n",
        "print(\"\\n\" + \"=\"*50 + \"\\n\")\n",
        "\n",
        "# 3. Check Reliability for the App Engagement Scale\n",
        "print(\"--- App Engagement Scale Reliability ---\")\n",
        "engagement_alpha, engagement_items = pg.cronbach_alpha(data=df[engagement_cols], items=True)\n",
        "print(f\"Overall Cronbach's Alpha: {engagement_alpha:.3f}\")\n",
        "print(\"\\nAlpha if Item Deleted (Engagement):\")\n",
        "print(engagement_items.round(3))"
      ],
      "metadata": {
        "colab": {
          "base_uri": "https://localhost:8080/"
        },
        "id": "Vss-_Ap56rgJ",
        "outputId": "306dff77-2842-45bb-c7db-cae1aa3c326d"
      },
      "execution_count": 13,
      "outputs": [
        {
          "output_type": "stream",
          "name": "stdout",
          "text": [
            "--- User Satisfaction Scale Reliability ---\n",
            "Overall Cronbach's Alpha: 0.693\n",
            "\n",
            "Alpha if Item Deleted (Satisfaction):\n",
            "[0.602 0.765]\n",
            "\n",
            "==================================================\n",
            "\n",
            "--- App Engagement Scale Reliability ---\n",
            "Overall Cronbach's Alpha: 0.444\n",
            "\n",
            "Alpha if Item Deleted (Engagement):\n",
            "[0.28  0.575]\n"
          ]
        }
      ]
    },
    {
      "cell_type": "markdown",
      "source": [
        "## **3. DESCRIPTIVE ANALYSIS**"
      ],
      "metadata": {
        "id": "-Nyw3_QfB4ZX"
      }
    },
    {
      "cell_type": "markdown",
      "source": [
        "**i. Most commonly used apps**"
      ],
      "metadata": {
        "id": "v50wV3skURqm"
      }
    },
    {
      "cell_type": "code",
      "source": [
        "# Most commonly used apps\n",
        "app_columns = ['is_gamer', 'is_social_media_user', 'is_shopper',\n",
        "               'is_news', 'is_utility', 'is_streamer', 'is_productivity']\n",
        "\n",
        "app_usage = df[app_columns].sum().sort_values(ascending=False)\n",
        "\n",
        "plt.figure(figsize=(10, 6))\n",
        "ax = sns.barplot(x=app_usage.values, y=app_usage.index)\n",
        "\n",
        "# Add data labels\n",
        "for i, v in enumerate(app_usage.values):\n",
        "    ax.text(v + 1, i, str(v), color='black', va='center')\n",
        "\n",
        "plt.title('Most Commonly Used App Types')\n",
        "plt.xlabel('Number of Users')\n",
        "plt.show()"
      ],
      "metadata": {
        "colab": {
          "base_uri": "https://localhost:8080/",
          "height": 564
        },
        "id": "yYse-J273bCQ",
        "outputId": "4fe3b4d9-a82f-495d-b051-c309ab4e121a"
      },
      "execution_count": 7,
      "outputs": [
        {
          "output_type": "display_data",
          "data": {
            "text/plain": [
              "<Figure size 1000x600 with 1 Axes>"
            ],
            "image/png": "[encoded data removed]"
          },
          "metadata": {}
        }
      ]
    },
    {
      "cell_type": "markdown",
      "source": [
        "**ii. Demographic Analysis**"
      ],
      "metadata": {
        "id": "kusiCSXvUXBo"
      }
    },
    {
      "cell_type": "code",
      "source": [
        "# Demographics Analysis\n",
        "plt.figure(figsize=(10, 6))\n",
        "age_labels = ['Under 18', '18-24', '25-34', '35-44', '45-54', '55+']\n",
        "df['Age_Group'] = df['Age_Code'].map(dict(zip(range(1, 7), age_labels)))  # map 1–6 to labels\n",
        "ax = sns.countplot(data=df, x='Age_Group', order=age_labels)\n",
        "# Add labels\n",
        "for p in ax.patches:\n",
        "    ax.text(p.get_x() + p.get_width() / 2,     # x: center of the bar\n",
        "            p.get_height() + 1,                # y: slightly above the bar\n",
        "            str(int(p.get_height())),          # text: bar height (count)\n",
        "            ha='center')\n",
        "plt.title('Age Distribution of Respondents')\n",
        "plt.xticks(rotation=45)\n",
        "plt.show()"
      ],
      "metadata": {
        "colab": {
          "base_uri": "https://localhost:8080/",
          "height": 605
        },
        "id": "embwkH_NCI70",
        "outputId": "9533a6dc-29c7-4267-c6e7-157d30f25693"
      },
      "execution_count": 14,
      "outputs": [
        {
          "output_type": "display_data",
          "data": {
            "text/plain": [
              "<Figure size 1000x600 with 1 Axes>"
            ],
            "image/png": "[encoded data removed]"
          },
          "metadata": {}
        }
      ]
    },
    {
      "cell_type": "markdown",
      "source": [
        "**iii. Descriptive Statistics**"
      ],
      "metadata": {
        "id": "JWvVXV3BUenI"
      }
    },
    {
      "cell_type": "code",
      "source": [
        "# Core Variable Description\n",
        "# Define columns for descriptive stats\n",
        "desc_cols = [\n",
        "    'Banner_Ads', 'Pop_up_Ads', 'Rewarded_Ads',\n",
        "    'Satisfaction_Pop_up', 'Satisfaction_Banner', 'Satisfaction_Rewarded',\n",
        "    'Engagement_Pop_up', 'Engagement_Rewarded', 'Engagement_Relevant'\n",
        "]\n",
        "\n",
        "# Calculate mean and standard deviation\n",
        "descriptive_stats = df[desc_cols].agg(['mean', 'std']).T\n",
        "descriptive_stats.columns = ['Mean', 'Standard Deviation']\n",
        "\n",
        "print(\"\\n--- Descriptive Statistics for Ad Metrics (1-5 Scale) ---\")\n",
        "print(descriptive_stats.round(3))"
      ],
      "metadata": {
        "colab": {
          "base_uri": "https://localhost:8080/"
        },
        "id": "Je2qPIDQCcAB",
        "outputId": "7f9fae74-61c5-4fbf-da9c-26d4418cd60c"
      },
      "execution_count": 17,
      "outputs": [
        {
          "output_type": "stream",
          "name": "stdout",
          "text": [
            "\n",
            "--- Descriptive Statistics for Ad Metrics (1-5 Scale) ---\n",
            "                        Mean  Standard Deviation\n",
            "Banner_Ads             3.810               1.009\n",
            "Pop_up_Ads             3.363               0.938\n",
            "Rewarded_Ads           3.054               1.473\n",
            "Satisfaction_Pop_up    2.048               1.152\n",
            "Satisfaction_Banner    3.470               1.038\n",
            "Satisfaction_Rewarded  3.542               1.422\n",
            "Engagement_Pop_up      2.095               1.159\n",
            "Engagement_Rewarded    3.667               1.284\n",
            "Engagement_Relevant    4.244               1.069\n"
          ]
        }
      ]
    },
    {
      "cell_type": "markdown",
      "source": [
        "# **4. INFERENTIAL ANALYSIS**"
      ],
      "metadata": {
        "id": "hJzNWGkQL_kY"
      }
    },
    {
      "cell_type": "markdown",
      "source": [
        "**i. Test for Hypothesis**"
      ],
      "metadata": {
        "id": "LhpVab1EMOtC"
      }
    },
    {
      "cell_type": "code",
      "source": [
        "print(\"--- 4A: ANOVA - Impact of Ad Frequency on Satisfaction ---\")\n",
        "\n",
        "# Run 3 ANOVAs (Satisfaction vs. its own Exposure)\n",
        "\n",
        "# 1. Satisfaction with Pop-ups vs. Pop-up Frequency\n",
        "model_pop_sat = ols('Satisfaction_Pop_up ~ C(Pop_up_Ads)', data=df).fit()\n",
        "anova_pop_sat = sm.stats.anova_lm(model_pop_sat, typ=2)\n",
        "print(\"\\nANOVA: Satisfaction_Pop_up vs. Pop_up_Ads Frequency\")\n",
        "print(anova_pop_sat.round(4))\n",
        "\n",
        "# 2. Satisfaction with Banners vs. Banner Frequency\n",
        "model_ban_sat = ols('Satisfaction_Banner ~ C(Banner_Ads)', data=df).fit()\n",
        "anova_ban_sat = sm.stats.anova_lm(model_ban_sat, typ=2)\n",
        "print(\"\\nANOVA: Satisfaction_Banner vs. Banner_Ads Frequency\")\n",
        "print(anova_ban_sat.round(4))\n",
        "\n",
        "# 3. Satisfaction with Rewarded Ads vs. Rewarded Ad Frequency\n",
        "model_rew_sat = ols('Satisfaction_Rewarded ~ C(Rewarded_Ads)', data=df).fit()\n",
        "anova_rew_sat = sm.stats.anova_lm(model_rew_sat, typ=2)\n",
        "print(\"\\nANOVA: Satisfaction_Rewarded vs. Rewarded_Ads Frequency\")\n",
        "print(anova_rew_sat.round(4))"
      ],
      "metadata": {
        "colab": {
          "base_uri": "https://localhost:8080/"
        },
        "id": "f5viVjOLML5n",
        "outputId": "ca3e218f-387b-48b3-aacc-ea89e127adb9"
      },
      "execution_count": 21,
      "outputs": [
        {
          "output_type": "stream",
          "name": "stdout",
          "text": [
            "--- 4A: ANOVA - Impact of Ad Frequency on Satisfaction ---\n",
            "\n",
            "ANOVA: Satisfaction_Pop_up vs. Pop_up_Ads Frequency\n",
            "                 sum_sq     df         F  PR(>F)\n",
            "C(Pop_up_Ads)  167.9178    4.0  127.4208     0.0\n",
            "Residual        53.7012  163.0       NaN     NaN\n",
            "\n",
            "ANOVA: Satisfaction_Banner vs. Banner_Ads Frequency\n",
            "                 sum_sq     df        F  PR(>F)\n",
            "C(Banner_Ads)  101.2381    3.0  70.3998     0.0\n",
            "Residual        78.6131  164.0      NaN     NaN\n",
            "\n",
            "ANOVA: Satisfaction_Rewarded vs. Rewarded_Ads Frequency\n",
            "                   sum_sq     df        F  PR(>F)\n",
            "C(Rewarded_Ads)  218.9474    4.0  75.1266     0.0\n",
            "Residual         118.7610  163.0      NaN     NaN\n"
          ]
        }
      ]
    },
    {
      "cell_type": "markdown",
      "source": [
        "**ii. Post-Hoc Analysis (Tukey's HSD)**"
      ],
      "metadata": {
        "id": "np6nf_iMMhdO"
      }
    },
    {
      "cell_type": "code",
      "source": [
        "print(\"--- POST-HOC ANALYSIS (Tukey's HSD) ---\")\n",
        "\n",
        "# 1. Tukey's HSD for Satisfaction_Pop_up\n",
        "print(\"\\n1. Tukey's HSD: Satisfaction_Pop_up (DV) by Pop_up_Ads (Between)\")\n",
        "post_hoc_pop = pg.pairwise_tukey(data=df, dv='Satisfaction_Pop_up', between='Pop_up_Ads')\n",
        "print(\"Available columns:\", post_hoc_pop.columns.tolist())  # Debug: see actual column names\n",
        "# Use the correct column names:\n",
        "print(post_hoc_pop[['A', 'B', 'mean(A)', 'mean(B)', 'p-tukey', 'hedges']].round(4))\n",
        "\n",
        "print(\"\\n\" + \"=\"*50)\n",
        "\n",
        "# 2. Tukey's HSD for Satisfaction_Banner\n",
        "print(\"\\n2. Tukey's HSD: Satisfaction_Banner (DV) by Banner_Ads (Between)\")\n",
        "post_hoc_banner = pg.pairwise_tukey(data=df, dv='Satisfaction_Banner', between='Banner_Ads')\n",
        "print(\"Available columns:\", post_hoc_banner.columns.tolist())  # Debug: see actual column names\n",
        "# Use the correct column names:\n",
        "print(post_hoc_banner[['A', 'B', 'mean(A)', 'mean(B)', 'p-tukey', 'hedges']].round(4))\n",
        "\n",
        "print(\"\\n\" + \"=\"*50)\n",
        "\n",
        "# 3. Tukey's HSD for Satisfaction_Rewarded\n",
        "print(\"\\n3. Tukey's HSD: Satisfaction_Rewarded (DV) by Rewarded_Ads (Between)\")\n",
        "post_hoc_rewarded = pg.pairwise_tukey(data=df, dv='Satisfaction_Rewarded', between='Rewarded_Ads')\n",
        "print(\"Available columns:\", post_hoc_rewarded.columns.tolist())  # Debug: see actual column names\n",
        "# Use the correct column names:\n",
        "print(post_hoc_rewarded[['A', 'B', 'mean(A)', 'mean(B)', 'p-tukey', 'hedges']].round(4))"
      ],
      "metadata": {
        "colab": {
          "base_uri": "https://localhost:8080/"
        },
        "id": "tQXkEEmkMl4e",
        "outputId": "97abc8cf-044c-4f7d-d49f-45310540bb53"
      },
      "execution_count": 23,
      "outputs": [
        {
          "output_type": "stream",
          "name": "stdout",
          "text": [
            "--- POST-HOC ANALYSIS (Tukey's HSD) ---\n",
            "\n",
            "1. Tukey's HSD: Satisfaction_Pop_up (DV) by Pop_up_Ads (Between)\n"
          ]
        },
        {
          "output_type": "stream",
          "name": "stderr",
          "text": [
            "/usr/local/lib/python3.12/dist-packages/pingouin/effsize.py:802: RuntimeWarning: Degrees of freedom <= 0 for slice\n",
            "  poolsd = np.sqrt(((nx - 1) * x.var(ddof=1) + (ny - 1) * y.var(ddof=1)) / dof)\n",
            "/usr/local/lib/python3.12/dist-packages/numpy/_core/_methods.py:210: RuntimeWarning: invalid value encountered in scalar divide\n",
            "  ret = ret.dtype.type(ret / rcount)\n"
          ]
        },
        {
          "output_type": "stream",
          "name": "stdout",
          "text": [
            "Available columns: ['A', 'B', 'mean(A)', 'mean(B)', 'diff', 'se', 'T', 'p-tukey', 'hedges']\n",
            "   A  B  mean(A)  mean(B)  p-tukey  hedges\n",
            "0  1  2   5.0000   3.9062   0.3342     NaN\n",
            "1  1  3   5.0000   2.0000   0.0000     NaN\n",
            "2  1  4   5.0000   1.3509   0.0000     NaN\n",
            "3  1  5   5.0000   1.0000   0.0000     NaN\n",
            "4  2  3   3.9062   2.0000   0.0000  2.8657\n",
            "5  2  4   3.9062   1.3509   0.0000  5.3235\n",
            "6  2  5   3.9062   1.0000   0.0000  9.2211\n",
            "7  3  4   2.0000   1.3509   0.0000  0.9838\n",
            "8  3  5   2.0000   1.0000   0.0000  1.4803\n",
            "9  4  5   1.3509   1.0000   0.1477  0.7719\n",
            "\n",
            "==================================================\n",
            "\n",
            "2. Tukey's HSD: Satisfaction_Banner (DV) by Banner_Ads (Between)\n",
            "Available columns: ['A', 'B', 'mean(A)', 'mean(B)', 'diff', 'se', 'T', 'p-tukey', 'hedges']\n",
            "   A  B  mean(A)  mean(B)  p-tukey  hedges\n",
            "0  2  3   3.8667   4.3898   0.0478 -0.8051\n",
            "1  2  4   3.8667   3.2432   0.0194  0.8127\n",
            "2  2  5   3.8667   2.5614   0.0000  2.0501\n",
            "3  3  4   4.3898   3.2432   0.0000  1.5465\n",
            "4  3  5   4.3898   2.5614   0.0000  2.7408\n",
            "5  4  5   3.2432   2.5614   0.0000  0.9281\n",
            "\n",
            "==================================================\n",
            "\n",
            "3. Tukey's HSD: Satisfaction_Rewarded (DV) by Rewarded_Ads (Between)\n",
            "Available columns: ['A', 'B', 'mean(A)', 'mean(B)', 'diff', 'se', 'T', 'p-tukey', 'hedges']\n",
            "   A  B  mean(A)  mean(B)  p-tukey  hedges\n",
            "0  1  2   1.5806   2.9487   0.0000 -1.4983\n",
            "1  1  3   1.5806   3.8788   0.0000 -3.5706\n",
            "2  1  4   1.5806   4.5000   0.0000 -3.2408\n",
            "3  1  5   1.5806   4.7333   0.0000 -3.5143\n",
            "4  2  3   2.9487   3.8788   0.0001 -1.1962\n",
            "5  2  4   2.9487   4.5000   0.0000 -1.5598\n",
            "6  2  5   2.9487   4.7333   0.0000 -1.8527\n",
            "7  3  4   3.8788   4.5000   0.0812 -0.8828\n",
            "8  3  5   3.8788   4.7333   0.0002 -1.1080\n",
            "9  4  5   4.5000   4.7333   0.8472 -0.2407\n"
          ]
        }
      ]
    },
    {
      "cell_type": "markdown",
      "source": [
        "**iii. Multiple Regression**"
      ],
      "metadata": {
        "id": "3A_U8n5qVA8A"
      }
    },
    {
      "cell_type": "code",
      "source": [
        "# --- 4B: Multiple Regression - Predicting Ad Relevance ---\n",
        "\n",
        "print(\"\\n--- OLS Regression Model 1: Predicting Engagement_Relevant ---\")\n",
        "\n",
        "# Define all key predictors: Ad Frequencies + App Types (Dummy Variables)\n",
        "# Note: Age_Code is ordinal, but often used as interval/ratio in regression, or can be converted to dummies\n",
        "predictors = [\n",
        "    'Banner_Ads', 'Pop_up_Ads', 'Rewarded_Ads',  # Ad Frequencies\n",
        "    'is_gamer', 'is_social_media_user', 'is_shopper', 'is_news', # App Types\n",
        "    'Age_Code' # Demographics\n",
        "]\n",
        "\n",
        "X_rel = df[predictors]\n",
        "y_rel = df['Engagement_Relevant']\n",
        "\n",
        "# Add the intercept term\n",
        "X_rel = sm.add_constant(X_rel)\n",
        "\n",
        "# Run the OLS model\n",
        "model_relevant = sm.OLS(y_rel, X_rel).fit()\n",
        "\n",
        "# Print the detailed summary\n",
        "print(model_relevant.summary())\n",
        "\n",
        "# --- Additional Regression Models for Comprehensive Analysis ---\n",
        "# You should also run models to predict other key dependent variables, such as:\n",
        "\n",
        "# Model 2: Predict Satisfaction_Rewarded (The most accepted ad type)\n",
        "# y_rew_sat = df['Satisfaction_Rewarded']\n",
        "# model_rew_sat = sm.OLS(y_rew_sat, X_rel).fit()\n",
        "# print(\"\\n--- OLS Regression Model 2: Predicting Satisfaction_Rewarded ---\")\n",
        "# print(model_rew_sat.summary())\n",
        "\n",
        "# Model 3: Predict Satisfaction_Pop_up (The most rejected ad type)\n",
        "# y_pop_sat = df['Satisfaction_Pop_up']\n",
        "# model_pop_sat = sm.OLS(y_pop_sat, X_rel).fit()\n",
        "# print(\"\\n--- OLS Regression Model 3: Predicting Satisfaction_Pop_up ---\")\n",
        "# print(model_pop_sat.summary())"
      ],
      "metadata": {
        "colab": {
          "base_uri": "https://localhost:8080/"
        },
        "id": "3tVTh5TGSGUz",
        "outputId": "60df87aa-5c24-484f-d19c-a1573f6943f5"
      },
      "execution_count": 24,
      "outputs": [
        {
          "output_type": "stream",
          "name": "stdout",
          "text": [
            "\n",
            "--- OLS Regression Model 1: Predicting Engagement_Relevant ---\n",
            "                             OLS Regression Results                            \n",
            "===============================================================================\n",
            "Dep. Variable:     Engagement_Relevant   R-squared:                       0.809\n",
            "Model:                             OLS   Adj. R-squared:                  0.799\n",
            "Method:                  Least Squares   F-statistic:                     83.97\n",
            "Date:                 Mon, 29 Sep 2025   Prob (F-statistic):           3.95e-53\n",
            "Time:                         16:22:32   Log-Likelihood:                -110.27\n",
            "No. Observations:                  168   AIC:                             238.5\n",
            "Df Residuals:                      159   BIC:                             266.7\n",
            "Df Model:                            8                                         \n",
            "Covariance Type:             nonrobust                                         \n",
            "========================================================================================\n",
            "                           coef    std err          t      P>|t|      [0.025      0.975]\n",
            "----------------------------------------------------------------------------------------\n",
            "const                    6.1466      0.361     17.022      0.000       5.433       6.860\n",
            "Banner_Ads               0.1270      0.093      1.365      0.174      -0.057       0.311\n",
            "Pop_up_Ads              -0.2587      0.072     -3.600      0.000      -0.401      -0.117\n",
            "Rewarded_Ads            -0.2081      0.076     -2.739      0.007      -0.358      -0.058\n",
            "is_gamer                 0.2309      0.205      1.124      0.263      -0.175       0.636\n",
            "is_social_media_user     0.0458      0.093      0.490      0.625      -0.139       0.230\n",
            "is_shopper               0.1377      0.113      1.218      0.225      -0.086       0.361\n",
            "is_news                 -2.2499      0.224    -10.065      0.000      -2.691      -1.808\n",
            "Age_Code                -0.1736      0.081     -2.152      0.033      -0.333      -0.014\n",
            "==============================================================================\n",
            "Omnibus:                       80.363   Durbin-Watson:                   1.920\n",
            "Prob(Omnibus):                  0.000   Jarque-Bera (JB):              830.619\n",
            "Skew:                          -1.435   Prob(JB):                    4.30e-181\n",
            "Kurtosis:                      13.508   Cond. No.                         70.1\n",
            "==============================================================================\n",
            "\n",
            "Notes:\n",
            "[1] Standard Errors assume that the covariance matrix of the errors is correctly specified.\n"
          ]
        }
      ]
    }
  ]
}